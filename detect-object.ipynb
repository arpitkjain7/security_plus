{
 "cells": [
  {
   "cell_type": "code",
   "execution_count": 10,
   "metadata": {},
   "outputs": [],
   "source": [
    "import tensorflow as tf\n",
    "from tensorflow.image import non_max_suppression\n",
    "from tensorflow.keras.applications import mobilenet_v2\n",
    "from tensorflow.keras.applications.mobilenet_v2 import preprocess_input\n",
    "from tensorflow.keras.preprocessing.image import img_to_array\n",
    "from tensorflow.keras.models import load_model\n",
    "import numpy as np\n",
    "import imutils\n",
    "import pickle\n",
    "import cv2\n",
    "import os"
   ]
  },
  {
   "cell_type": "code",
   "execution_count": 11,
   "metadata": {},
   "outputs": [],
   "source": [
    "model = load_model('model/object_detection.h5')\n",
    "lb = pickle.loads(open('label_encoder/label_encoder.pickle','rb').read())"
   ]
  },
  {
   "cell_type": "code",
   "execution_count": 18,
   "metadata": {},
   "outputs": [
    {
     "name": "stdout",
     "output_type": "stream",
     "text": [
      "(320, 500, 3)\n"
     ]
    }
   ],
   "source": [
    "image = cv2.imread('raccoons/images/raccoon-1.jpg')\n",
    "image = imutils.resize(image,width=500)\n",
    "print(image.shape)\n",
    "ss = cv2.ximgproc.segmentation.createSelectiveSearchSegmentation()\n",
    "ss.setBaseImage(image)\n",
    "ss.switchToSelectiveSearchFast()\n",
    "rect = ss.process()"
   ]
  },
  {
   "cell_type": "code",
   "execution_count": 19,
   "metadata": {},
   "outputs": [],
   "source": [
    "proposals = []\n",
    "boxes = []\n",
    "for x,y,w,h in rect[:200]:\n",
    "    roi = image[y:y+h,x:x+w]\n",
    "    roi = cv2.cvtColor(roi,cv2.COLOR_BGR2RGB)\n",
    "    roi = cv2.resize(roi,(224,224),interpolation=cv2.INTER_CUBIC)\n",
    "    roi = img_to_array(roi)\n",
    "    #roi = preprocess_input(roi)\n",
    "    proposals.append(roi)\n",
    "    boxes.append((x,y,x+w,y+h))"
   ]
  },
  {
   "cell_type": "code",
   "execution_count": 20,
   "metadata": {},
   "outputs": [
    {
     "name": "stdout",
     "output_type": "stream",
     "text": [
      "(200, 224, 224, 3)\n"
     ]
    }
   ],
   "source": [
    "proposals = np.array(proposals)\n",
    "boxes = np.array(boxes)\n",
    "print(proposals.shape)\n",
    "proba = model.predict(proposals)"
   ]
  },
  {
   "cell_type": "code",
   "execution_count": null,
   "metadata": {},
   "outputs": [],
   "source": []
  },
  {
   "cell_type": "code",
   "execution_count": 21,
   "metadata": {},
   "outputs": [
    {
     "name": "stdout",
     "output_type": "stream",
     "text": [
      "[INFO] applying NMS...\n",
      "['no_raccoon' 'no_raccoon' 'no_raccoon' 'no_raccoon' 'no_raccoon'\n",
      " 'no_raccoon' 'no_raccoon' 'no_raccoon' 'no_raccoon' 'no_raccoon'\n",
      " 'no_raccoon' 'no_raccoon' 'no_raccoon' 'no_raccoon' 'no_raccoon'\n",
      " 'no_raccoon' 'no_raccoon' 'no_raccoon' 'no_raccoon' 'no_raccoon'\n",
      " 'no_raccoon' 'no_raccoon' 'no_raccoon' 'no_raccoon' 'no_raccoon'\n",
      " 'no_raccoon' 'no_raccoon' 'no_raccoon' 'no_raccoon' 'no_raccoon'\n",
      " 'no_raccoon' 'no_raccoon' 'no_raccoon' 'no_raccoon' 'no_raccoon'\n",
      " 'no_raccoon' 'no_raccoon' 'no_raccoon' 'no_raccoon' 'no_raccoon'\n",
      " 'no_raccoon' 'no_raccoon' 'no_raccoon' 'no_raccoon' 'no_raccoon'\n",
      " 'no_raccoon' 'raccoon' 'no_raccoon' 'no_raccoon' 'no_raccoon'\n",
      " 'no_raccoon' 'no_raccoon' 'no_raccoon' 'no_raccoon' 'no_raccoon'\n",
      " 'no_raccoon' 'no_raccoon' 'no_raccoon' 'no_raccoon' 'no_raccoon'\n",
      " 'no_raccoon' 'no_raccoon' 'raccoon' 'raccoon' 'no_raccoon' 'no_raccoon'\n",
      " 'no_raccoon' 'no_raccoon' 'no_raccoon' 'no_raccoon' 'no_raccoon'\n",
      " 'no_raccoon' 'no_raccoon' 'no_raccoon' 'no_raccoon' 'no_raccoon'\n",
      " 'no_raccoon' 'no_raccoon' 'no_raccoon' 'no_raccoon' 'no_raccoon'\n",
      " 'raccoon' 'no_raccoon' 'no_raccoon' 'no_raccoon' 'no_raccoon'\n",
      " 'no_raccoon' 'no_raccoon' 'no_raccoon' 'no_raccoon' 'no_raccoon'\n",
      " 'no_raccoon' 'no_raccoon' 'no_raccoon' 'no_raccoon' 'raccoon'\n",
      " 'no_raccoon' 'no_raccoon' 'no_raccoon' 'no_raccoon' 'no_raccoon'\n",
      " 'no_raccoon' 'no_raccoon' 'no_raccoon' 'no_raccoon' 'no_raccoon'\n",
      " 'no_raccoon' 'no_raccoon' 'no_raccoon' 'no_raccoon' 'no_raccoon'\n",
      " 'no_raccoon' 'no_raccoon' 'no_raccoon' 'no_raccoon' 'no_raccoon'\n",
      " 'no_raccoon' 'no_raccoon' 'no_raccoon' 'no_raccoon' 'raccoon'\n",
      " 'no_raccoon' 'no_raccoon' 'no_raccoon' 'no_raccoon' 'no_raccoon'\n",
      " 'no_raccoon' 'no_raccoon' 'no_raccoon' 'no_raccoon' 'no_raccoon'\n",
      " 'raccoon' 'no_raccoon' 'no_raccoon' 'no_raccoon' 'no_raccoon'\n",
      " 'no_raccoon' 'no_raccoon' 'no_raccoon' 'no_raccoon' 'no_raccoon'\n",
      " 'no_raccoon' 'no_raccoon' 'no_raccoon' 'no_raccoon' 'no_raccoon'\n",
      " 'no_raccoon' 'no_raccoon' 'no_raccoon' 'raccoon' 'no_raccoon'\n",
      " 'no_raccoon' 'no_raccoon' 'no_raccoon' 'no_raccoon' 'no_raccoon'\n",
      " 'no_raccoon' 'no_raccoon' 'no_raccoon' 'no_raccoon' 'no_raccoon'\n",
      " 'no_raccoon' 'no_raccoon' 'no_raccoon' 'no_raccoon' 'no_raccoon'\n",
      " 'no_raccoon' 'no_raccoon' 'no_raccoon' 'no_raccoon' 'no_raccoon'\n",
      " 'no_raccoon' 'no_raccoon' 'no_raccoon' 'no_raccoon' 'no_raccoon'\n",
      " 'no_raccoon' 'no_raccoon' 'no_raccoon' 'no_raccoon' 'no_raccoon'\n",
      " 'no_raccoon' 'no_raccoon' 'no_raccoon' 'no_raccoon' 'no_raccoon'\n",
      " 'no_raccoon' 'no_raccoon' 'no_raccoon' 'no_raccoon' 'no_raccoon'\n",
      " 'no_raccoon' 'no_raccoon' 'no_raccoon' 'no_raccoon' 'no_raccoon'\n",
      " 'no_raccoon' 'no_raccoon' 'no_raccoon' 'no_raccoon']\n"
     ]
    }
   ],
   "source": [
    "# find the index of all predictions that are positive for the\n",
    "# \"raccoon\" class\n",
    "print(\"[INFO] applying NMS...\")\n",
    "labels = lb.classes_[np.argmax(proba, axis=1)]\n",
    "idxs = np.where(labels == \"raccoon\")[0]\n",
    "print(labels)\n",
    "# use the indexes to extract all bounding boxes and associated class\n",
    "# label probabilities associated with the \"raccoon\" class\n",
    "boxes = boxes[idxs]\n",
    "proba = proba[idxs][:, 1]\n",
    "# further filter indexes by enforcing a minimum prediction\n",
    "# probability be met\n",
    "idxs = np.where(proba >= 0.75)\n",
    "boxes = boxes[idxs]\n",
    "proba = proba[idxs]"
   ]
  },
  {
   "cell_type": "code",
   "execution_count": 22,
   "metadata": {},
   "outputs": [],
   "source": [
    "# clone the original image so that we can draw on it\n",
    "clone = image.copy()\n",
    "# loop over the bounding boxes and associated probabilities\n",
    "for (box, prob) in zip(boxes, proba):\n",
    "    # draw the bounding box, label, and probability on the image\n",
    "    (startX, startY, endX, endY) = box\n",
    "    cv2.rectangle(clone, (startX, startY), (endX, endY),(0, 255, 0), 2)\n",
    "    y = startY - 10 if startY - 10 > 10 else startY + 10\n",
    "    text= \"Raccoon: {:.2f}%\".format(prob * 100)\n",
    "    cv2.putText(clone, text, (startX, y),cv2.FONT_HERSHEY_SIMPLEX, 0.45, (0, 255, 0), 2)\n",
    "# show the output after *before* running NMS\n",
    "# cv2.imshow(\"Before NMS\", clone)\n",
    "# cv2.waitKey(100)\n",
    "# cv2.destroyAllWindows()"
   ]
  },
  {
   "cell_type": "code",
   "execution_count": 23,
   "metadata": {},
   "outputs": [
    {
     "name": "stdout",
     "output_type": "stream",
     "text": [
      "bounding box:(0.0, 0.0, 425.0, 289.0)\n"
     ]
    }
   ],
   "source": [
    "# run non-maxima suppression on the bounding boxes\n",
    "boxIdxs = non_max_suppression(boxes, proba, max_output_size=1)\n",
    "boxes = tf.gather(boxes, boxIdxs)\n",
    "# loop over the bounding box indexes\n",
    "for i in boxIdxs:\n",
    "    # draw the bounding box, label, and probability on the image\n",
    "    (startX, startY, endX, endY) = boxes[i]\n",
    "    cv2.rectangle(image, (startX, startY), (endX, endY),(0, 255, 0), 2)\n",
    "    y = startY - 10 if startY - 10 > 10 else startY + 10\n",
    "    text= \"Raccoon: {:.2f}%\".format(proba[i] * 100)\n",
    "    cv2.putText(image, text, (startX, y),cv2.FONT_HERSHEY_SIMPLEX, 0.45, (0, 255, 0), 2)\n",
    "# show the output image *after* running NMS\n",
    "print(f\"bounding box:{float(startX),float(startY),float(endX),float(endY)}\")"
   ]
  },
  {
   "cell_type": "code",
   "execution_count": null,
   "metadata": {},
   "outputs": [],
   "source": [
    "prob"
   ]
  },
  {
   "cell_type": "code",
   "execution_count": null,
   "metadata": {},
   "outputs": [],
   "source": [
    "prob"
   ]
  },
  {
   "cell_type": "code",
   "execution_count": null,
   "metadata": {},
   "outputs": [],
   "source": []
  }
 ],
 "metadata": {
  "kernelspec": {
   "display_name": "Python 3",
   "language": "python",
   "name": "python3"
  },
  "language_info": {
   "codemirror_mode": {
    "name": "ipython",
    "version": 3
   },
   "file_extension": ".py",
   "mimetype": "text/x-python",
   "name": "python",
   "nbconvert_exporter": "python",
   "pygments_lexer": "ipython3",
   "version": "3.7.4"
  }
 },
 "nbformat": 4,
 "nbformat_minor": 2
}
